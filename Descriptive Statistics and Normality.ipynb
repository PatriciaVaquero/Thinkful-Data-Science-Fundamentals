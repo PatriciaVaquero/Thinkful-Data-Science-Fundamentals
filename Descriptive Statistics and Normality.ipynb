{
 "cells": [
  {
   "cell_type": "markdown",
   "metadata": {},
   "source": [
    "<h1>Descriptive Statistics and Normality</h1>"
   ]
  },
  {
   "cell_type": "code",
   "execution_count": 2,
   "metadata": {},
   "outputs": [],
   "source": [
    "import pandas as pd\n",
    "import numpy as np\n",
    "import matplotlib.pyplot as plt\n",
    "%matplotlib inline"
   ]
  },
  {
   "cell_type": "markdown",
   "metadata": {},
   "source": [
    "<h3>Beta Distribution</h3>\n",
    "<code>numpy.random.beta(a, b, size=None)</code>\n",
    "\n",
    "<p>Beta distribution is used for representing probability distribution when we don't know the probability in advance but have an idea.<br>Example Use:  Batting Averages</p>"
   ]
  },
  {
   "cell_type": "code",
   "execution_count": 33,
   "metadata": {},
   "outputs": [
    {
     "data": {
      "image/png": "[encoded data removed]",
      "text/plain": [
       "<Figure size 432x288 with 1 Axes>"
      ]
     },
     "metadata": {},
     "output_type": "display_data"
    }
   ],
   "source": [
    "#generate beta distribution\n",
    "beta = np.random.beta(1, 10, 100)\n",
    "\n",
    "#plot histogram\n",
    "plt.hist(beta, color='c')\n",
    "\n",
    "#add vertical line at the mean\n",
    "plt.axvline(beta.mean(), color='green', linestyle='solid', linewidth=2)\n",
    "\n",
    "#add vertical line at one standard deviation above mean\n",
    "plt.axvline(beta.std() + beta.mean(), color='b', linestyle='solid', linewidth=2)\n",
    "\n",
    "#add vertical line at one standard deviation below mean\n",
    "plt.axvline(beta.mean() - beta.std(), color='b', linestyle='solid', linewidth=2)\n",
    "\n",
    "#print histogram\n",
    "plt.show()"
   ]
  },
  {
   "cell_type": "markdown",
   "metadata": {},
   "source": [
    "The mean is not centered, so its not a good measure of central tendancy and standard deviation doesn't encompass the same amount of data on each side of the mean."
   ]
  },
  {
   "cell_type": "markdown",
   "metadata": {},
   "source": [
    "<h3>Chi-Square Distribution</h3>\n",
    "<code>numpy.random.chisquare(df, size=None)</code>"
   ]
  },
  {
   "cell_type": "code",
   "execution_count": 34,
   "metadata": {},
   "outputs": [
    {
     "name": "stdout",
     "output_type": "stream",
     "text": [
      "Mean: 10.24296301901938\n"
     ]
    },
    {
     "data": {
      "image/png": "[encoded data removed]",
      "text/plain": [
       "<Figure size 432x288 with 1 Axes>"
      ]
     },
     "metadata": {},
     "output_type": "display_data"
    }
   ],
   "source": [
    "#generate chi-square distribution\n",
    "chisquare = np.random.chisquare(10, 100)\n",
    "\n",
    "#plot histogram\n",
    "plt.hist(chisquare, color='c')\n",
    "\n",
    "#add vertical line at the mean\n",
    "plt.axvline(chisquare.mean(), color='green', linestyle='solid', linewidth=2)\n",
    "print('Mean: ' + str(chisquare.mean()))\n",
    "\n",
    "#add vertical line at one standard deviation above mean\n",
    "plt.axvline(chisquare.std() + chisquare.mean(), color='b', linestyle='solid', linewidth=2)\n",
    "\n",
    "#add vertical line at one standard deviation below mean\n",
    "plt.axvline(chisquare.mean() - chisquare.std(), color='b', linestyle='solid', linewidth=2)\n",
    "\n",
    "\n",
    "#print histogram\n",
    "plt.show()"
   ]
  },
  {
   "cell_type": "markdown",
   "metadata": {},
   "source": [
    "The mean is not centered, so its not a good measure of central tendancy and standard deviation doesn't encompass the same amount of data on each side of the mean - but this distribution is less skewed than the beta distribution."
   ]
  },
  {
   "cell_type": "markdown",
   "metadata": {},
   "source": [
    "<h3>Logarithmic Series Distribution</h3>\n",
    "<code>numpy.random.logseries(p, size=None)</code>\n",
    "\n",
    "<p>Example Use: Insurance claim frequency, biology - number of organisms in a cluster</p>"
   ]
  },
  {
   "cell_type": "code",
   "execution_count": 35,
   "metadata": {},
   "outputs": [
    {
     "name": "stdout",
     "output_type": "stream",
     "text": [
      "Mean: 1.48\n"
     ]
    },
    {
     "data": {
      "image/png": "[encoded data removed]",
      "text/plain": [
       "<Figure size 432x288 with 1 Axes>"
      ]
     },
     "metadata": {},
     "output_type": "display_data"
    }
   ],
   "source": [
    "#generate distribution\n",
    "logseries = np.random.logseries(0.5, 100)\n",
    "\n",
    "#plot histogram\n",
    "plt.hist(logseries, color='c')\n",
    "\n",
    "#add vertical line at the mean\n",
    "plt.axvline(logseries.mean(), color='green', linestyle='solid', linewidth=2)\n",
    "print('Mean: ' + str(logseries.mean()))\n",
    "\n",
    "#add vertical line at one standard deviation above mean\n",
    "plt.axvline(logseries.std() + logseries.mean(), color='b', linestyle='solid', linewidth=2)\n",
    "\n",
    "#add vertical line at one standard deviation below mean\n",
    "plt.axvline(logseries.mean() - logseries.std(), color='b', linestyle='solid', linewidth=2)\n",
    "\n",
    "#print histogram\n",
    "plt.show()"
   ]
  },
  {
   "cell_type": "markdown",
   "metadata": {},
   "source": [
    "The mean is not centered, so its not a good measure of central tendancy and standard deviation doesn't encompass the same amount of data on each side of the mean."
   ]
  },
  {
   "cell_type": "markdown",
   "metadata": {},
   "source": [
    "<h3>Power</h3>\n",
    "<code>numpy.random.power(a, size=None)</code>\n",
    "\n",
    "Example Use: Modeling over-reporting of insurance claims"
   ]
  },
  {
   "cell_type": "code",
   "execution_count": 36,
   "metadata": {},
   "outputs": [
    {
     "name": "stdout",
     "output_type": "stream",
     "text": [
      "Mean: 0.9503403041685943\n"
     ]
    },
    {
     "data": {
      "image/png": "[encoded data removed]",
      "text/plain": [
       "<Figure size 432x288 with 1 Axes>"
      ]
     },
     "metadata": {},
     "output_type": "display_data"
    }
   ],
   "source": [
    "#generate distribution\n",
    "power = np.random.power(20, 100)\n",
    "\n",
    "#plot histogram\n",
    "plt.hist(power, color='c')\n",
    "\n",
    "#add vertical line at the mean\n",
    "plt.axvline(power.mean(), color='green', linestyle='solid', linewidth=2)\n",
    "print('Mean: ' + str(power.mean()))\n",
    "\n",
    "#add vertical line at one standard deviation above mean\n",
    "plt.axvline(power.std() + power.mean(), color='b', linestyle='solid', linewidth=2)\n",
    "\n",
    "#add vertical line at one standard deviation below mean\n",
    "plt.axvline(power.mean() - power.std(), color='b', linestyle='solid', linewidth=2)\n",
    "\n",
    "#print histogram\n",
    "plt.show()"
   ]
  },
  {
   "cell_type": "markdown",
   "metadata": {},
   "source": [
    "The mean is not centered, so its not a good measure of central tendancy and standard deviation doesn't encompass the same amount of data on each side of the mean."
   ]
  },
  {
   "cell_type": "markdown",
   "metadata": {},
   "source": [
    "<h3>Rayleigh Distribution</h3>\n",
    "<code>numpy.random.rayleigh(scale=1.0, size=None)</code>"
   ]
  },
  {
   "cell_type": "code",
   "execution_count": 37,
   "metadata": {},
   "outputs": [
    {
     "name": "stdout",
     "output_type": "stream",
     "text": [
      "Mean: 1.1898631115586873\n"
     ]
    },
    {
     "data": {
      "image/png": "[encoded data removed]",
      "text/plain": [
       "<Figure size 432x288 with 1 Axes>"
      ]
     },
     "metadata": {},
     "output_type": "display_data"
    }
   ],
   "source": [
    "#generate distribution\n",
    "rayleigh = np.random.rayleigh(1, 100)\n",
    "\n",
    "#plot histogram\n",
    "plt.hist(rayleigh, color='c')\n",
    "\n",
    "#add vertical line at the mean\n",
    "plt.axvline(rayleigh.mean(), color='green', linestyle='solid', linewidth=2)\n",
    "print('Mean: ' + str(rayleigh.mean()))\n",
    "\n",
    "#add vertical line at one standard deviation above mean\n",
    "plt.axvline(rayleigh.std() + rayleigh.mean(), color='b', linestyle='solid', linewidth=2)\n",
    "\n",
    "#add vertical line at one standard deviation below mean\n",
    "plt.axvline(rayleigh.mean() - rayleigh.std(), color='b', linestyle='solid', linewidth=2)\n",
    "\n",
    "#print histogram\n",
    "plt.show()"
   ]
  },
  {
   "cell_type": "markdown",
   "metadata": {},
   "source": [
    "The mean is placed where the data clusters, but there is more data to the right of the mean than on the left."
   ]
  },
  {
   "cell_type": "markdown",
   "metadata": {},
   "source": [
    "<h3>Vonmises Distribution</h3>\n",
    "<code>numpy.random.vonmises(mu, kappa, size=None)"
   ]
  },
  {
   "cell_type": "code",
   "execution_count": 38,
   "metadata": {},
   "outputs": [
    {
     "name": "stdout",
     "output_type": "stream",
     "text": [
      "Mean: 1.130202753987692\n"
     ]
    },
    {
     "data": {
      "image/png": "[encoded data removed]",
      "text/plain": [
       "<Figure size 432x288 with 1 Axes>"
      ]
     },
     "metadata": {},
     "output_type": "display_data"
    }
   ],
   "source": [
    "#generate distribution\n",
    "vonmises = np.random.vonmises(20, 5, 100)\n",
    "\n",
    "#plot histogram\n",
    "plt.hist(vonmises, color='c')\n",
    "\n",
    "#add vertical line at the mean\n",
    "plt.axvline(vonmises.mean(), color='green', linestyle='solid', linewidth=2)\n",
    "print('Mean: ' + str(vonmises.mean()))\n",
    "\n",
    "#add vertical line at one standard deviation above mean\n",
    "plt.axvline(vonmises.std() + vonmises.mean(), color='b', linestyle='solid', linewidth=2)\n",
    "\n",
    "#add vertical line at one standard deviation below mean\n",
    "plt.axvline(vonmises.mean() - vonmises.std(), color='b', linestyle='solid', linewidth=2)\n",
    "\n",
    "#print histogram\n",
    "plt.show()"
   ]
  },
  {
   "cell_type": "markdown",
   "metadata": {},
   "source": [
    "The mean looks pretty centered with a similar amount of data on each side."
   ]
  },
  {
   "cell_type": "code",
   "execution_count": 39,
   "metadata": {},
   "outputs": [
    {
     "name": "stdout",
     "output_type": "stream",
     "text": [
      "Mean: 15.125944363778883\n"
     ]
    },
    {
     "data": {
      "image/png": "[encoded data removed]",
      "text/plain": [
       "<Figure size 432x288 with 1 Axes>"
      ]
     },
     "metadata": {},
     "output_type": "display_data"
    }
   ],
   "source": [
    "var1 = np.random.normal(5, 0.5, 100)\n",
    "var2 = np.random.normal(10, 1, 100)\n",
    "var3 = var1 + var2\n",
    "\n",
    "plt.hist(var3, color='c')\n",
    "\n",
    "plt.axvline(var3.mean(), color='green', linestyle='solid', linewidth=2)\n",
    "print('Mean: ' + str(var3.mean()))\n",
    "\n",
    "\n",
    "plt.axvline(var3.std() + var3.mean(), color='b', linestyle='solid', linewidth=2)\n",
    "plt.axvline(var3.mean() - var3.std(), color='b', linestyle='solid', linewidth=2)\n",
    "\n",
    "\n",
    "plt.show()"
   ]
  },
  {
   "cell_type": "markdown",
   "metadata": {},
   "source": [
    "The data is pushed slightly off to the left."
   ]
  },
  {
   "cell_type": "code",
   "execution_count": null,
   "metadata": {},
   "outputs": [],
   "source": []
  }
 ],
 "metadata": {
  "kernelspec": {
   "display_name": "Python 3",
   "language": "python",
   "name": "python3"
  },
  "language_info": {
   "codemirror_mode": {
    "name": "ipython",
    "version": 3
   },
   "file_extension": ".py",
   "mimetype": "text/x-python",
   "name": "python",
   "nbconvert_exporter": "python",
   "pygments_lexer": "ipython3",
   "version": "3.6.5"
  }
 },
 "nbformat": 4,
 "nbformat_minor": 2
}
